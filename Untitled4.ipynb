{
  "nbformat": 4,
  "nbformat_minor": 0,
  "metadata": {
    "colab": {
      "provenance": [],
      "authorship_tag": "ABX9TyN10zbbMZP+7AOmCli2IkP1",
      "include_colab_link": true
    },
    "kernelspec": {
      "name": "python3",
      "display_name": "Python 3"
    },
    "language_info": {
      "name": "python"
    }
  },
  "cells": [
    {
      "cell_type": "markdown",
      "metadata": {
        "id": "view-in-github",
        "colab_type": "text"
      },
      "source": [
        "<a href=\"https://colab.research.google.com/github/yogesh4344/genai_av_hackathon2/blob/main/Untitled4.ipynb\" target=\"_parent\"><img src=\"https://colab.research.google.com/assets/colab-badge.svg\" alt=\"Open In Colab\"/></a>"
      ]
    },
    {
      "cell_type": "code",
      "source": [
        "!pip install groq"
      ],
      "metadata": {
        "colab": {
          "base_uri": "https://localhost:8080/"
        },
        "id": "qTzcFZ142epn",
        "outputId": "5a06bc65-0202-4fd9-fc3f-b9b5d50b5391"
      },
      "execution_count": null,
      "outputs": [
        {
          "output_type": "stream",
          "name": "stdout",
          "text": [
            "Requirement already satisfied: groq in /usr/local/lib/python3.11/dist-packages (0.16.0)\n",
            "Requirement already satisfied: anyio<5,>=3.5.0 in /usr/local/lib/python3.11/dist-packages (from groq) (3.7.1)\n",
            "Requirement already satisfied: distro<2,>=1.7.0 in /usr/local/lib/python3.11/dist-packages (from groq) (1.9.0)\n",
            "Requirement already satisfied: httpx<1,>=0.23.0 in /usr/local/lib/python3.11/dist-packages (from groq) (0.28.1)\n",
            "Requirement already satisfied: pydantic<3,>=1.9.0 in /usr/local/lib/python3.11/dist-packages (from groq) (2.10.6)\n",
            "Requirement already satisfied: sniffio in /usr/local/lib/python3.11/dist-packages (from groq) (1.3.1)\n",
            "Requirement already satisfied: typing-extensions<5,>=4.10 in /usr/local/lib/python3.11/dist-packages (from groq) (4.12.2)\n",
            "Requirement already satisfied: idna>=2.8 in /usr/local/lib/python3.11/dist-packages (from anyio<5,>=3.5.0->groq) (3.10)\n",
            "Requirement already satisfied: certifi in /usr/local/lib/python3.11/dist-packages (from httpx<1,>=0.23.0->groq) (2024.12.14)\n",
            "Requirement already satisfied: httpcore==1.* in /usr/local/lib/python3.11/dist-packages (from httpx<1,>=0.23.0->groq) (1.0.7)\n",
            "Requirement already satisfied: h11<0.15,>=0.13 in /usr/local/lib/python3.11/dist-packages (from httpcore==1.*->httpx<1,>=0.23.0->groq) (0.14.0)\n",
            "Requirement already satisfied: annotated-types>=0.6.0 in /usr/local/lib/python3.11/dist-packages (from pydantic<3,>=1.9.0->groq) (0.7.0)\n",
            "Requirement already satisfied: pydantic-core==2.27.2 in /usr/local/lib/python3.11/dist-packages (from pydantic<3,>=1.9.0->groq) (2.27.2)\n"
          ]
        }
      ]
    },
    {
      "cell_type": "code",
      "source": [
        "from groq import Groq, RateLimitError\n",
        "import os\n",
        "import pandas as pd\n",
        "import time\n",
        "\n",
        "#os.environ[\"GROQ_API_KEY\"] = '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'\n",
        "#os.environ[\"GROQ_API_KEY\"] = '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'\n",
        "os.environ[\"GROQ_API_KEY\"] = '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'\n",
        "\n",
        "client = Groq()\n"
      ],
      "metadata": {
        "id": "5lFY0NmW2hKl"
      },
      "execution_count": 221,
      "outputs": []
    },
    {
      "cell_type": "code",
      "source": [],
      "metadata": {
        "id": "Xp79V2lxTfQu"
      },
      "execution_count": null,
      "outputs": []
    },
    {
      "cell_type": "code",
      "source": [
        "model='llama3-70b-8192'\n",
        "def get_response_lang(prompt, model=model):\n",
        "    messages = [{'role':'system', 'content':'your purpose is to detect language based on input. Just give language code'},\n",
        "     {\"role\":\"user\",\"content\":prompt}]\n",
        "    #client = Groq()\n",
        "    while True:  # Retry loop\n",
        "        try:\n",
        "            response = client.chat.completions.create(model=model,messages=messages)\n",
        "            return response.choices[0].message.content\n",
        "        except RateLimitError as e: # Now RateLimitError is defined\n",
        "            # Extract retry-after time from error message\n",
        "            # The error message format has changed; it now includes 'ms' instead of 'seconds' sometimes.\n",
        "            if 'seconds' in e.message:\n",
        "                retry_after = float(e.message.split(\"Please try again in \")[1].split(\"seconds\")[0])\n",
        "            elif 'ms' in e.message:\n",
        "                retry_after = float(e.message.split(\"Please try again in \")[1].split(\"ms\")[0]) / 1000\n",
        "            else:\n",
        "                # Handle cases where the format is unexpected, maybe log a warning\n",
        "                print(f\"Unexpected rate limit error message: {e.message}\")\n",
        "                retry_after = 60  # Default to 60 seconds\n",
        "\n",
        "\n",
        "            print(f\"Rate limit hit. Retrying in {retry_after} seconds...\")\n",
        "            time.sleep(retry_after)  # Wait before retrying"
      ],
      "metadata": {
        "id": "sDsBslLkzukQ"
      },
      "execution_count": 166,
      "outputs": []
    },
    {
      "cell_type": "code",
      "source": [
        "# Load the datasets\n",
        "train_df = pd.read_csv(\"train.csv\")\n",
        "test_df = pd.read_csv(\"test.csv\")"
      ],
      "metadata": {
        "id": "yAdf8GAsVNIT"
      },
      "execution_count": 159,
      "outputs": []
    },
    {
      "cell_type": "code",
      "source": [
        "# Define input and output column names\n",
        "input_column_names = train_df.columns[1:3]  # Columns 1 and 2 for input\n",
        "output_column_names = train_df.columns[6] # Columns 3, 4, 5, 6 for output\n",
        "\n",
        "output_column_names"
      ],
      "metadata": {
        "colab": {
          "base_uri": "https://localhost:8080/",
          "height": 35
        },
        "id": "c1tpZbzDVNgx",
        "outputId": "fcb6f8ca-99d2-4058-f5f0-73c9e2d67a28"
      },
      "execution_count": 160,
      "outputs": [
        {
          "output_type": "execute_result",
          "data": {
            "text/plain": [
              "'language'"
            ],
            "application/vnd.google.colaboratory.intrinsic+json": {
              "type": "string"
            }
          },
          "metadata": {},
          "execution_count": 160
        }
      ]
    },
    {
      "cell_type": "code",
      "source": [
        "shot_examples = \"\"\n",
        "for index, row in train_df.iterrows():  # Use the first 5 examples for few-shot learning\n",
        "    # Construct input string from columns 1 and 2\n",
        "    input_str = \" \".join([str(row[col]) for col in input_column_names])\n",
        "    # Construct output string from columns 3, 4, 5, 6\n",
        "    #output_str = \" \".join([str(row[col]) for col in output_column_names])\n",
        "    output_str = (str(row[output_column_names]))\n",
        "    shot_examples += f\"Input: {input_str}\\nOutput: {output_str}\\n\\n\"\n",
        "\n",
        "#print(shot_examples)"
      ],
      "metadata": {
        "id": "RJonLMQYdnC-"
      },
      "execution_count": 161,
      "outputs": []
    },
    {
      "cell_type": "code",
      "source": [
        "results_lang = []\n",
        "for index, row in test_df.iterrows():  # Iterate over the first 5 rows of test_df\n",
        "    # Construct input string from columns 1 and 2 of test_df\n",
        "    input_str = \" \".join([str(row[col]) for col in test_df.columns[1:3]])\n",
        "    prompt = f\"{shot_examples}Input: {input_str}\\nOutput:\"\n",
        "    #print(prompt)\n",
        "    response = get_response_lang(prompt)\n",
        "    print(response)\n",
        "    results_lang.append(response)\n",
        "\n",
        "print(results_lang)"
      ],
      "metadata": {
        "colab": {
          "base_uri": "https://localhost:8080/",
          "height": 478
        },
        "id": "NnXPFFFJeFuJ",
        "outputId": "77241ea3-1400-4e9d-f866-84998934f442"
      },
      "execution_count": 169,
      "outputs": [
        {
          "output_type": "stream",
          "name": "stdout",
          "text": [
            "it\n",
            "de\n"
          ]
        },
        {
          "output_type": "error",
          "ename": "KeyboardInterrupt",
          "evalue": "",
          "traceback": [
            "\u001b[0;31m---------------------------------------------------------------------------\u001b[0m",
            "\u001b[0;31mHTTPStatusError\u001b[0m                           Traceback (most recent call last)",
            "\u001b[0;32m/usr/local/lib/python3.11/dist-packages/groq/_base_client.py\u001b[0m in \u001b[0;36m_request\u001b[0;34m(self, cast_to, options, retries_taken, stream, stream_cls)\u001b[0m\n\u001b[1;32m   1039\u001b[0m         \u001b[0;32mtry\u001b[0m\u001b[0;34m:\u001b[0m\u001b[0;34m\u001b[0m\u001b[0;34m\u001b[0m\u001b[0m\n\u001b[0;32m-> 1040\u001b[0;31m             \u001b[0mresponse\u001b[0m\u001b[0;34m.\u001b[0m\u001b[0mraise_for_status\u001b[0m\u001b[0;34m(\u001b[0m\u001b[0;34m)\u001b[0m\u001b[0;34m\u001b[0m\u001b[0;34m\u001b[0m\u001b[0m\n\u001b[0m\u001b[1;32m   1041\u001b[0m         \u001b[0;32mexcept\u001b[0m \u001b[0mhttpx\u001b[0m\u001b[0;34m.\u001b[0m\u001b[0mHTTPStatusError\u001b[0m \u001b[0;32mas\u001b[0m \u001b[0merr\u001b[0m\u001b[0;34m:\u001b[0m  \u001b[0;31m# thrown on 4xx and 5xx status code\u001b[0m\u001b[0;34m\u001b[0m\u001b[0;34m\u001b[0m\u001b[0m\n",
            "\u001b[0;32m/usr/local/lib/python3.11/dist-packages/httpx/_models.py\u001b[0m in \u001b[0;36mraise_for_status\u001b[0;34m(self)\u001b[0m\n\u001b[1;32m    828\u001b[0m         \u001b[0mmessage\u001b[0m \u001b[0;34m=\u001b[0m \u001b[0mmessage\u001b[0m\u001b[0;34m.\u001b[0m\u001b[0mformat\u001b[0m\u001b[0;34m(\u001b[0m\u001b[0mself\u001b[0m\u001b[0;34m,\u001b[0m \u001b[0merror_type\u001b[0m\u001b[0;34m=\u001b[0m\u001b[0merror_type\u001b[0m\u001b[0;34m)\u001b[0m\u001b[0;34m\u001b[0m\u001b[0;34m\u001b[0m\u001b[0m\n\u001b[0;32m--> 829\u001b[0;31m         \u001b[0;32mraise\u001b[0m \u001b[0mHTTPStatusError\u001b[0m\u001b[0;34m(\u001b[0m\u001b[0mmessage\u001b[0m\u001b[0;34m,\u001b[0m \u001b[0mrequest\u001b[0m\u001b[0;34m=\u001b[0m\u001b[0mrequest\u001b[0m\u001b[0;34m,\u001b[0m \u001b[0mresponse\u001b[0m\u001b[0;34m=\u001b[0m\u001b[0mself\u001b[0m\u001b[0;34m)\u001b[0m\u001b[0;34m\u001b[0m\u001b[0;34m\u001b[0m\u001b[0m\n\u001b[0m\u001b[1;32m    830\u001b[0m \u001b[0;34m\u001b[0m\u001b[0m\n",
            "\u001b[0;31mHTTPStatusError\u001b[0m: Client error '429 Too Many Requests' for url 'https://api.groq.com/openai/v1/chat/completions'\nFor more information check: https://developer.mozilla.org/en-US/docs/Web/HTTP/Status/429",
            "\nDuring handling of the above exception, another exception occurred:\n",
            "\u001b[0;31mKeyboardInterrupt\u001b[0m                         Traceback (most recent call last)",
            "\u001b[0;32m<ipython-input-169-b1f2851a037a>\u001b[0m in \u001b[0;36m<cell line: 0>\u001b[0;34m()\u001b[0m\n\u001b[1;32m      5\u001b[0m     \u001b[0mprompt\u001b[0m \u001b[0;34m=\u001b[0m \u001b[0;34mf\"{shot_examples}Input: {input_str}\\nOutput:\"\u001b[0m\u001b[0;34m\u001b[0m\u001b[0;34m\u001b[0m\u001b[0m\n\u001b[1;32m      6\u001b[0m     \u001b[0;31m#print(prompt)\u001b[0m\u001b[0;34m\u001b[0m\u001b[0;34m\u001b[0m\u001b[0m\n\u001b[0;32m----> 7\u001b[0;31m     \u001b[0mresponse\u001b[0m \u001b[0;34m=\u001b[0m \u001b[0mget_response_lang\u001b[0m\u001b[0;34m(\u001b[0m\u001b[0mprompt\u001b[0m\u001b[0;34m)\u001b[0m\u001b[0;34m\u001b[0m\u001b[0;34m\u001b[0m\u001b[0m\n\u001b[0m\u001b[1;32m      8\u001b[0m     \u001b[0mprint\u001b[0m\u001b[0;34m(\u001b[0m\u001b[0mresponse\u001b[0m\u001b[0;34m)\u001b[0m\u001b[0;34m\u001b[0m\u001b[0;34m\u001b[0m\u001b[0m\n\u001b[1;32m      9\u001b[0m     \u001b[0mresults_lang\u001b[0m\u001b[0;34m.\u001b[0m\u001b[0mappend\u001b[0m\u001b[0;34m(\u001b[0m\u001b[0mresponse\u001b[0m\u001b[0;34m)\u001b[0m\u001b[0;34m\u001b[0m\u001b[0;34m\u001b[0m\u001b[0m\n",
            "\u001b[0;32m<ipython-input-166-8df8faad9fd4>\u001b[0m in \u001b[0;36mget_response_lang\u001b[0;34m(prompt, model)\u001b[0m\n\u001b[1;32m      6\u001b[0m     \u001b[0;32mwhile\u001b[0m \u001b[0;32mTrue\u001b[0m\u001b[0;34m:\u001b[0m  \u001b[0;31m# Retry loop\u001b[0m\u001b[0;34m\u001b[0m\u001b[0;34m\u001b[0m\u001b[0m\n\u001b[1;32m      7\u001b[0m         \u001b[0;32mtry\u001b[0m\u001b[0;34m:\u001b[0m\u001b[0;34m\u001b[0m\u001b[0;34m\u001b[0m\u001b[0m\n\u001b[0;32m----> 8\u001b[0;31m             \u001b[0mresponse\u001b[0m \u001b[0;34m=\u001b[0m \u001b[0mclient\u001b[0m\u001b[0;34m.\u001b[0m\u001b[0mchat\u001b[0m\u001b[0;34m.\u001b[0m\u001b[0mcompletions\u001b[0m\u001b[0;34m.\u001b[0m\u001b[0mcreate\u001b[0m\u001b[0;34m(\u001b[0m\u001b[0mmodel\u001b[0m\u001b[0;34m=\u001b[0m\u001b[0mmodel\u001b[0m\u001b[0;34m,\u001b[0m\u001b[0mmessages\u001b[0m\u001b[0;34m=\u001b[0m\u001b[0mmessages\u001b[0m\u001b[0;34m)\u001b[0m\u001b[0;34m\u001b[0m\u001b[0;34m\u001b[0m\u001b[0m\n\u001b[0m\u001b[1;32m      9\u001b[0m             \u001b[0;32mreturn\u001b[0m \u001b[0mresponse\u001b[0m\u001b[0;34m.\u001b[0m\u001b[0mchoices\u001b[0m\u001b[0;34m[\u001b[0m\u001b[0;36m0\u001b[0m\u001b[0;34m]\u001b[0m\u001b[0;34m.\u001b[0m\u001b[0mmessage\u001b[0m\u001b[0;34m.\u001b[0m\u001b[0mcontent\u001b[0m\u001b[0;34m\u001b[0m\u001b[0;34m\u001b[0m\u001b[0m\n\u001b[1;32m     10\u001b[0m         \u001b[0;32mexcept\u001b[0m \u001b[0mRateLimitError\u001b[0m \u001b[0;32mas\u001b[0m \u001b[0me\u001b[0m\u001b[0;34m:\u001b[0m \u001b[0;31m# Now RateLimitError is defined\u001b[0m\u001b[0;34m\u001b[0m\u001b[0;34m\u001b[0m\u001b[0m\n",
            "\u001b[0;32m/usr/local/lib/python3.11/dist-packages/groq/resources/chat/completions.py\u001b[0m in \u001b[0;36mcreate\u001b[0;34m(self, messages, model, frequency_penalty, function_call, functions, logit_bias, logprobs, max_completion_tokens, max_tokens, n, parallel_tool_calls, presence_penalty, reasoning_format, response_format, seed, service_tier, stop, stream, temperature, tool_choice, tools, top_logprobs, top_p, user, extra_headers, extra_query, extra_body, timeout)\u001b[0m\n\u001b[1;32m    320\u001b[0m           \u001b[0mtimeout\u001b[0m\u001b[0;34m:\u001b[0m \u001b[0mOverride\u001b[0m \u001b[0mthe\u001b[0m \u001b[0mclient\u001b[0m\u001b[0;34m-\u001b[0m\u001b[0mlevel\u001b[0m \u001b[0mdefault\u001b[0m \u001b[0mtimeout\u001b[0m \u001b[0;32mfor\u001b[0m \u001b[0mthis\u001b[0m \u001b[0mrequest\u001b[0m\u001b[0;34m,\u001b[0m \u001b[0;32min\u001b[0m \u001b[0mseconds\u001b[0m\u001b[0;34m\u001b[0m\u001b[0;34m\u001b[0m\u001b[0m\n\u001b[1;32m    321\u001b[0m         \"\"\"\n\u001b[0;32m--> 322\u001b[0;31m         return self._post(\n\u001b[0m\u001b[1;32m    323\u001b[0m             \u001b[0;34m\"/openai/v1/chat/completions\"\u001b[0m\u001b[0;34m,\u001b[0m\u001b[0;34m\u001b[0m\u001b[0;34m\u001b[0m\u001b[0m\n\u001b[1;32m    324\u001b[0m             body=maybe_transform(\n",
            "\u001b[0;32m/usr/local/lib/python3.11/dist-packages/groq/_base_client.py\u001b[0m in \u001b[0;36mpost\u001b[0;34m(self, path, cast_to, body, options, files, stream, stream_cls)\u001b[0m\n\u001b[1;32m   1264\u001b[0m             \u001b[0mmethod\u001b[0m\u001b[0;34m=\u001b[0m\u001b[0;34m\"post\"\u001b[0m\u001b[0;34m,\u001b[0m \u001b[0murl\u001b[0m\u001b[0;34m=\u001b[0m\u001b[0mpath\u001b[0m\u001b[0;34m,\u001b[0m \u001b[0mjson_data\u001b[0m\u001b[0;34m=\u001b[0m\u001b[0mbody\u001b[0m\u001b[0;34m,\u001b[0m \u001b[0mfiles\u001b[0m\u001b[0;34m=\u001b[0m\u001b[0mto_httpx_files\u001b[0m\u001b[0;34m(\u001b[0m\u001b[0mfiles\u001b[0m\u001b[0;34m)\u001b[0m\u001b[0;34m,\u001b[0m \u001b[0;34m**\u001b[0m\u001b[0moptions\u001b[0m\u001b[0;34m\u001b[0m\u001b[0;34m\u001b[0m\u001b[0m\n\u001b[1;32m   1265\u001b[0m         )\n\u001b[0;32m-> 1266\u001b[0;31m         \u001b[0;32mreturn\u001b[0m \u001b[0mcast\u001b[0m\u001b[0;34m(\u001b[0m\u001b[0mResponseT\u001b[0m\u001b[0;34m,\u001b[0m \u001b[0mself\u001b[0m\u001b[0;34m.\u001b[0m\u001b[0mrequest\u001b[0m\u001b[0;34m(\u001b[0m\u001b[0mcast_to\u001b[0m\u001b[0;34m,\u001b[0m \u001b[0mopts\u001b[0m\u001b[0;34m,\u001b[0m \u001b[0mstream\u001b[0m\u001b[0;34m=\u001b[0m\u001b[0mstream\u001b[0m\u001b[0;34m,\u001b[0m \u001b[0mstream_cls\u001b[0m\u001b[0;34m=\u001b[0m\u001b[0mstream_cls\u001b[0m\u001b[0;34m)\u001b[0m\u001b[0;34m)\u001b[0m\u001b[0;34m\u001b[0m\u001b[0;34m\u001b[0m\u001b[0m\n\u001b[0m\u001b[1;32m   1267\u001b[0m \u001b[0;34m\u001b[0m\u001b[0m\n\u001b[1;32m   1268\u001b[0m     def patch(\n",
            "\u001b[0;32m/usr/local/lib/python3.11/dist-packages/groq/_base_client.py\u001b[0m in \u001b[0;36mrequest\u001b[0;34m(self, cast_to, options, remaining_retries, stream, stream_cls)\u001b[0m\n\u001b[1;32m    956\u001b[0m             \u001b[0mretries_taken\u001b[0m \u001b[0;34m=\u001b[0m \u001b[0;36m0\u001b[0m\u001b[0;34m\u001b[0m\u001b[0;34m\u001b[0m\u001b[0m\n\u001b[1;32m    957\u001b[0m \u001b[0;34m\u001b[0m\u001b[0m\n\u001b[0;32m--> 958\u001b[0;31m         return self._request(\n\u001b[0m\u001b[1;32m    959\u001b[0m             \u001b[0mcast_to\u001b[0m\u001b[0;34m=\u001b[0m\u001b[0mcast_to\u001b[0m\u001b[0;34m,\u001b[0m\u001b[0;34m\u001b[0m\u001b[0;34m\u001b[0m\u001b[0m\n\u001b[1;32m    960\u001b[0m             \u001b[0moptions\u001b[0m\u001b[0;34m=\u001b[0m\u001b[0moptions\u001b[0m\u001b[0;34m,\u001b[0m\u001b[0;34m\u001b[0m\u001b[0;34m\u001b[0m\u001b[0m\n",
            "\u001b[0;32m/usr/local/lib/python3.11/dist-packages/groq/_base_client.py\u001b[0m in \u001b[0;36m_request\u001b[0;34m(self, cast_to, options, retries_taken, stream, stream_cls)\u001b[0m\n\u001b[1;32m   1044\u001b[0m             \u001b[0;32mif\u001b[0m \u001b[0mremaining_retries\u001b[0m \u001b[0;34m>\u001b[0m \u001b[0;36m0\u001b[0m \u001b[0;32mand\u001b[0m \u001b[0mself\u001b[0m\u001b[0;34m.\u001b[0m\u001b[0m_should_retry\u001b[0m\u001b[0;34m(\u001b[0m\u001b[0merr\u001b[0m\u001b[0;34m.\u001b[0m\u001b[0mresponse\u001b[0m\u001b[0;34m)\u001b[0m\u001b[0;34m:\u001b[0m\u001b[0;34m\u001b[0m\u001b[0;34m\u001b[0m\u001b[0m\n\u001b[1;32m   1045\u001b[0m                 \u001b[0merr\u001b[0m\u001b[0;34m.\u001b[0m\u001b[0mresponse\u001b[0m\u001b[0;34m.\u001b[0m\u001b[0mclose\u001b[0m\u001b[0;34m(\u001b[0m\u001b[0;34m)\u001b[0m\u001b[0;34m\u001b[0m\u001b[0;34m\u001b[0m\u001b[0m\n\u001b[0;32m-> 1046\u001b[0;31m                 return self._retry_request(\n\u001b[0m\u001b[1;32m   1047\u001b[0m                     \u001b[0minput_options\u001b[0m\u001b[0;34m,\u001b[0m\u001b[0;34m\u001b[0m\u001b[0;34m\u001b[0m\u001b[0m\n\u001b[1;32m   1048\u001b[0m                     \u001b[0mcast_to\u001b[0m\u001b[0;34m,\u001b[0m\u001b[0;34m\u001b[0m\u001b[0;34m\u001b[0m\u001b[0m\n",
            "\u001b[0;32m/usr/local/lib/python3.11/dist-packages/groq/_base_client.py\u001b[0m in \u001b[0;36m_retry_request\u001b[0;34m(self, options, cast_to, retries_taken, response_headers, stream, stream_cls)\u001b[0m\n\u001b[1;32m   1091\u001b[0m         \u001b[0;31m# In a synchronous context we are blocking the entire thread. Up to the library user to run the client in a\u001b[0m\u001b[0;34m\u001b[0m\u001b[0;34m\u001b[0m\u001b[0m\n\u001b[1;32m   1092\u001b[0m         \u001b[0;31m# different thread if necessary.\u001b[0m\u001b[0;34m\u001b[0m\u001b[0;34m\u001b[0m\u001b[0m\n\u001b[0;32m-> 1093\u001b[0;31m         \u001b[0mtime\u001b[0m\u001b[0;34m.\u001b[0m\u001b[0msleep\u001b[0m\u001b[0;34m(\u001b[0m\u001b[0mtimeout\u001b[0m\u001b[0;34m)\u001b[0m\u001b[0;34m\u001b[0m\u001b[0;34m\u001b[0m\u001b[0m\n\u001b[0m\u001b[1;32m   1094\u001b[0m \u001b[0;34m\u001b[0m\u001b[0m\n\u001b[1;32m   1095\u001b[0m         return self._request(\n",
            "\u001b[0;31mKeyboardInterrupt\u001b[0m: "
          ]
        }
      ]
    },
    {
      "cell_type": "code",
      "source": [
        "model='llama3-70b-8192'\n",
        "system_content = 'behave as IT ticket reviewer. You need to assgin department, type, priority, language for each ticket. for department, type & priority, always give predict one of earlier outputs. detect language & Just give language code'\n",
        "\n",
        "def get_response_others(prompt, model=model):\n",
        "    messages = [{'role':'system', 'content':system_content},\n",
        "     {\"role\":\"user\",\"content\":prompt}]\n",
        "    client = Groq()\n",
        "    while True:  # Retry loop\n",
        "        try:\n",
        "            response = client.chat.completions.create(model=model,messages=messages)\n",
        "            return response.choices[0].message.content\n",
        "        except RateLimitError as e: # Now RateLimitError is defined\n",
        "            # Extract retry-after time from error message\n",
        "            # The error message format has changed; it now includes 'ms' instead of 'seconds' sometimes.\n",
        "            if 'seconds' in e.message:\n",
        "                retry_after = float(e.message.split(\"Please try again in \")[1].split(\"seconds\")[0])\n",
        "            elif 'ms' in e.message:\n",
        "                retry_after = float(e.message.split(\"Please try again in \")[1].split(\"ms\")[0]) / 1000\n",
        "            else:\n",
        "                # Handle cases where the format is unexpected, maybe log a warning\n",
        "                print(f\"Unexpected rate limit error message: {e.message}\")\n",
        "                retry_after = 60  # Default to 60 seconds\n",
        "\n",
        "\n",
        "            print(f\"Rate limit hit. Retrying in {retry_after} seconds...\")\n",
        "            time.sleep(retry_after)  # Wait before retrying"
      ],
      "metadata": {
        "id": "-NyR6jTnwlzl"
      },
      "execution_count": 222,
      "outputs": []
    },
    {
      "cell_type": "code",
      "source": [
        "output_column_names = train_df.columns[3:7] # Columns 3, 4, 5, 6 for output\n",
        "\n",
        "output_column_names"
      ],
      "metadata": {
        "colab": {
          "base_uri": "https://localhost:8080/"
        },
        "id": "24-vfLLOxJMJ",
        "outputId": "7f57a35b-3443-4ebb-a2da-4a128fe6e012"
      },
      "execution_count": 223,
      "outputs": [
        {
          "output_type": "execute_result",
          "data": {
            "text/plain": [
              "Index(['department', 'type', 'priority', 'language'], dtype='object')"
            ]
          },
          "metadata": {},
          "execution_count": 223
        }
      ]
    },
    {
      "cell_type": "code",
      "source": [
        "shot_examples = \"\"\n",
        "for index, row in train_df.iterrows():  # Use the first 5 examples for few-shot learning\n",
        "    # Construct input string from columns 1 and 2\n",
        "    input_str = \" \".join([str(row[col]) for col in input_column_names])\n",
        "    # Construct output string from columns 3, 4, 5, 6\n",
        "    output_str = \" \".join([col+': '+str(row[col])+';' for col in output_column_names])\n",
        "    #output_str = (str(row[output_column_names]))\n",
        "    shot_examples += f\"Input: {input_str}\\nOutput: {output_str}\\n\\n\"\n",
        "\n",
        "#print(shot_examples)"
      ],
      "metadata": {
        "id": "u6g9atj5xE4E"
      },
      "execution_count": 224,
      "outputs": []
    },
    {
      "cell_type": "code",
      "source": [
        "results = []\n",
        "for index, row in test_df.iloc[285:].iterrows():  # Iterate over the first 5 rows of test_df\n",
        "    # Construct input string from columns 1 and 2 of test_df\n",
        "    input_str = \" \".join([str(row[col]) for col in test_df.columns[1:3]])\n",
        "    #print(input_str)\n",
        "    prompt = f\"{shot_examples}Input: {input_str}\\nOutput:\"\n",
        "    #print(prompt)\n",
        "    response = get_response_others(prompt)\n",
        "    print(response)\n",
        "    results.append(response)\n",
        "\n",
        "#print(results)"
      ],
      "metadata": {
        "colab": {
          "base_uri": "https://localhost:8080/"
        },
        "id": "Pl6l3a87xBbU",
        "outputId": "b95467d7-a54b-4fda-f321-078caa5506a8"
      },
      "execution_count": 225,
      "outputs": [
        {
          "output_type": "stream",
          "name": "stdout",
          "text": [
            "department: Product Support; type: Problem; priority: medium; language: de;\n",
            "department: Product Support; type: Problem; priority: medium; language: hi;\n",
            "department: Service Outages and Maintenance; type: Incident; priority: high; language: hi;\n",
            "department: Product Support; type: Problem; priority: medium; language: pt;\n",
            "department: Customer Service; type: Incident; priority: high; language: de;\n",
            "department: Technical Support; type: Incident; priority: high; language: de;\n",
            "department: Product Support; type: Problem; priority: medium; language: fr;\n",
            "department: Billing and Payments; type: Incident; priority: low; language: hi;\n",
            "department: Service Outages and Maintenance; type: Incident; priority: high; language: fr;\n",
            "department: Sales and Pre-Sales; type: Request; priority: low; language: fr;\n",
            "department: Product Support; type: Problem; priority: medium; language: fr;\n",
            "department: Service Outages and Maintenance; type: Incident; priority: high; language: fr\n",
            "department: Product Support; type: Problem; priority: medium; language: hi\n",
            "department: Technical Support; type: Request; priority: high; language: fr;\n",
            "department: Product Support; type: Problem; priority: medium; language: fr;\n",
            "department: Service Outages and Maintenance; type: Incident; priority: high; language: de;\n",
            "department: Product Support; type: Problem; priority: medium; language: hi;\n",
            "department: Technical Support; type: Incident; priority: high; language: de;\n",
            "department: Product Support; type: Problem; priority: high; language: pt;\n",
            "department: General Inquiry; type: Request; priority: medium; language: es;\n",
            "department: Product Support; type: Problem; priority: medium; language: de;\n",
            "department: Network and Communications; type: Incident; priority: high; language: es;\n",
            "department: Product Support; type: Problem; priority: medium; language: pt;\n",
            "department: Cloud Services; type: Request; priority: medium; language: hi;\n",
            "department: Product Support; type: Problem; priority: medium; language: fr;\n",
            "department: Technical Support; type: Request; priority: medium; language: hi;\n",
            "department: Returns and Exchanges; type: Incident; priority: low; language: pt;\n",
            "department: Sales and Pre-Sales; type: Request; priority: medium; language: de;\n",
            "department: Product Support; type: Problem; priority: medium; language: hi;\n",
            "department: Product Support; type: Problem; priority: medium; language: fr\n",
            "department: Product Support; type: Problem; priority: high; language: de;\n",
            "department: Service Outages and Maintenance; type: Incident; priority: high; language: es;\n",
            "department: Product Support; type: Problem; priority: medium; language: es;\n",
            "department: Product Support; type: Problem; priority: medium; language: hi;\n",
            "department: Service Outages and Maintenance; type: Incident; priority: high; language: es;\n",
            "department: Product Support; type: Request; priority: low; language: de;\n",
            "department: Technical Support; type: Incident; priority: high; language: fr;\n",
            "department: Technical Support; type: Problem; priority: medium; language: de;\n",
            "department: Returns and Exchanges; type: Incident; priority: low; language: de;\n",
            "department: Server Administration; type: Change; priority: medium; language: de;\n",
            "department: Product Support; type: Problem; priority: medium; language: de;\n",
            "department: Product Support; type: Request; priority: low; language: hi;\n",
            "department: Returns and Exchanges; type: Incident; priority: high; language: de;\n",
            "department: Returns and Exchanges; type: Incident; priority: high; language: pt;\n",
            "department: General Inquiry; type: Request; priority: high; language: hi;\n",
            "department: Technical Support; type: Request; priority: medium; language: fr;\n",
            "department: Billing and Payments; type: Incident; priority: low; language: de\n",
            "department: Service Outages and Maintenance; type: Incident; priority: high; language: de;\n",
            "department: Product Support; type: Incident; priority: high; language: fr;\n",
            "department: Network and Connectivity; type: Incident; priority: high; language: hi;\n",
            "department: Product Support; type: Problem; priority: medium; language: es;\n",
            "department: Product Support; type: Problem; priority: medium; language: hi\n",
            "department: Billing and Payments; type: Request; priority: low; language: de\n",
            "department: Product Support; type: Problem; priority: medium; language: hi\n",
            "department: Billing and Payments; type: Incident; priority: low; language: de\n",
            "department: Customer Service; type: Incident; priority: high; language: fr;\n",
            "department: Customer Service; type: Incident; priority: high; language: es;\n",
            "department: Product Support; type: Problem; priority: medium; language: hi;\n",
            "department: Product Support; type: Problem; priority: medium; language: hi;\n",
            "department: Technical Support; type: Incident; priority: high; language: es;\n",
            "department: Product Support; type: Problem; priority: medium; language: de\n",
            "department: Sales and Pre-Sales; type: Request; priority: low; language: de;\n",
            "department: Returns and Exchanges; type: Incident; priority: low; language: hi\n",
            "department: Product Support; type: Problem; priority: medium; language: pt;\n",
            "department: Service Outages and Maintenance; type: Incident; priority: high; language: fr;\n",
            "department: Returns and Exchanges; type: Incident; priority: low; language: de;\n",
            "department: Product Support; type: Problem; priority: medium; language: de;\n",
            "department: Service Outages and Maintenance; type: Incident; priority: high; language: fr;\n",
            "department: Product Support; type: Problem; priority: medium; language: hi;\n",
            "department: Returns and Exchanges; type: Incident; priority: low; language: hi;\n",
            "department: Product Support; type: Problem; priority: medium; language: pt;\n",
            "department: Network and Connectivity; type: Incident; priority: high; language: hi;\n",
            "department: Network and Connectivity; type: Incident; priority: high; language: es;\n",
            "department: Returns and Exchanges; type: Incident; priority: low; language: de;\n",
            "department: Product Support; type: Problem; priority: medium; language: hi;\n",
            "department: Technical Support; type: Request; priority: medium; language: fr;\n",
            "department: Technical Support; type: Request; priority: medium; language: es;\n",
            "department: Product Support; type: Problem; priority: medium; language: hi;\n",
            "department: Product Support; type: Request; priority: medium; language: hi;\n",
            "department: Network and Connectivity; type: Incident; priority: high; language: es;\n",
            "department: Product Support; type: Incident; priority: medium; language: hi;\n",
            "department: Technical Support; type: Request; priority: medium; language: pt;\n",
            "department: Product Support; type: Problem; priority: medium; language: de;\n",
            "department: Product Support; type: Problem; priority: medium; language: hi;\n",
            "department: Product Support; type: Problem; priority: medium; language: es;\n",
            "department: Product Support; type: Problem; priority: medium; language: es;\n",
            "department: Customer Service; type: Incident; priority: high; language: hi;\n",
            "department: Service Outages and Maintenance; type: Request; priority: high; language: pt;\n",
            "department: General Inquiry; type: Request; priority: medium; language: de;\n",
            "department: Technical Support; type: Request; priority: medium; language: es;\n",
            "department: Product Support; type: Problem; priority: medium; language: hi;\n",
            "department: Product Support; type: Problem; priority: medium; language: fr;\n",
            "department: Product Support; type: Problem; priority: medium; language: de;\n",
            "department: Product Support; type: Problem; priority: medium; language: de;\n",
            "department: Sales and Pre-Sales; type: Request; priority: low; language: de;\n",
            "department: Network and Connectivity; type: Incident; priority: high; language: hi;\n",
            "department: Service Outages and Maintenance; type: Incident; priority: medium; language: hi\n",
            "department: Product Support; type: Problem; priority: medium; language: hi;\n",
            "department: Service Outages and Maintenance; type: Incident; priority: high; language: de;\n",
            "department: Product Support; type: Problem; priority: medium; language: de;\n",
            "department: Product Support; type: Problem; priority: medium; language: hi;\n",
            "department: Product Support; type: Problem; priority: medium; language: hi;\n",
            "department: Service Outages and Maintenance; type: Incident; priority: high; language: fr;\n",
            "department: Product Support; type: Problem; priority: low; language: pt;\n",
            "department: Product Support; type: Problem; priority: medium; language: hi;\n",
            "department: Technical Support; type: Incident; priority: high; language: pt;\n",
            "department: Product Support; type: Problem; priority: medium; language: es;\n",
            "department: Product Support; type: Problem; priority: high; language: pt;\n",
            "department: Technical Support; type: Problem; priority: medium; language: es;\n",
            "department: Cloud Services; type: Request; priority: medium; language: es\n",
            "department: Product Support; type: Problem; priority: high; language: pt\n",
            "department: Product Support; type: Problem; priority: high; language: de;\n",
            "department: Service Outages and Maintenance; type: Incident; priority: high; language: es;\n",
            "department: Technical Support; type: Incident; priority: medium; language: es;\n",
            "department: Product Support; type: Problem; priority: medium; language: es;\n",
            "department: General Inquiry; type: Request; priority: medium; language: hi\n",
            "department: Technical Support; type: Problem; priority: high; language: de;\n",
            "department: Product Support; type: Incident; priority: high; language: hi;\n",
            "department: Billing and Payments; type: Incident; priority: low; language: de\n",
            "Department: Customer Service; type: Incident; priority: medium; language: es;\n",
            "department: Billing and Payments; type: Incident; priority: low; language: fr;\n",
            "department: Product Support; type: Problem; priority: high; language: hi\n",
            "department: Product Support; type: Problem; priority: medium; language: de;\n",
            "department: Technical Support; type: Incident; priority: high; language: fr;\n",
            "department: Service Outages and Maintenance; type: Incident; priority: high; language: de;\n",
            "department: Billing and Payments; type: Request; priority: medium; language: pt;\n",
            "department: Product Support; type: Problem; priority: medium; language: fr;\n",
            "department: Product Support; type: Problem; priority: high; language: hi\n",
            "department: Product Support; type: Problem; priority: medium; language: hi;\n",
            "department: Technical Support; type: Incident; priority: high; language: fr;\n",
            "department: Technical Support; type: Incident; priority: high; language: hi;\n",
            "department: Billing and Payments; type: Incident; priority: low; language: de;\n",
            "department: Product Support; type: Problem; priority: medium; language: fr;\n",
            "department: Billing and Payments; type: Incident; priority: low; language: es;\n",
            "department: Technical Support; type: Incident; priority: high; language: fr;\n",
            "department: Technical Support; type: Incident; priority: medium; language: de;\n",
            "department: Returns and Exchanges; type: Incident; priority: high; language: de;\n",
            "department: Billing and Payments; type: Incident; priority: low; language: de;\n",
            "department: Product Support; type: Problem; priority: medium; language: hi;\n",
            "department: Product Support; type: Problem; priority: medium; language: fr;\n",
            "department: Product Support; type: Incident; priority: low; language: hi;\n",
            "department: Technical Support; type: Incident; priority: high; language: fr;\n",
            "department: Product Support; type: Problem; priority: medium; language: es;\n",
            "department: Billing and Payments; type: Request; priority: low; language: es;\n",
            "department: Returns and Exchanges; type: Incident; priority: low; language: de\n",
            "department: Product Support; type: Problem; priority: medium; language: de;\n",
            "department: Service Outages and Maintenance; type: Incident; priority: high; language: fr\n",
            "department: Service Outages and Maintenance; type: Incident; priority: high; language: hi;\n",
            "department: Technical Support; type: Problem; priority: medium; language: de\n",
            "department: Billing and Payments; type: Incident; priority: low; language: de;\n",
            "department: Networking; type: Incident; priority: high; language: pt;\n",
            "department: Product Support; type: Problem; priority: medium; language: de;\n",
            "department: Technical Support; type: Incident; priority: high; language: hi;\n",
            "department: Product Support; type: Problem; priority: medium; language: fr;\n",
            "department: Returns and Exchanges; type: Incident; priority: low; language: hi;\n",
            "department: Product Support; type: Incident; priority: medium; language: fr;\n",
            "department: General Inquiry; type: Request; priority: medium; language: pt;\n",
            "department: General Inquiry; type: Request; priority: medium; language: fr;\n",
            "department: Service Outages and Maintenance; type: Incident; priority: high; language: pt;\n",
            "department: Technical Support; type: Incident; priority: high; language: de\n",
            "department: Billing and Payments; type: Inquiry; priority: low; language: es;\n",
            "department: Network Operations; type: Change; priority: high; language: de;\n",
            "department: Product Support; type: Problem; priority: medium; language: de;\n",
            "department: Technical Support; type: Problem; priority: medium; language: fr;\n",
            "department: Product Support; type: Problem; priority: medium; language: hi\n",
            "department: Product Support; type: Problem; priority: medium; language: de;\n",
            "department: Service Outages and Maintenance; type: Incident; priority: high; language: fr;\n",
            "department: Billing and Payments; type: Request; priority: medium; language: hi;\n",
            "department: Service Outages and Maintenance; type: Incident; priority: high; language: es;\n",
            "department: Product Support; type: Request; priority: low; language: fr;\n",
            "department: Product Support; type: Problem; priority: medium; language: fr;\n",
            "department: Product Support; type: Problem; priority: medium; language: pt;\n",
            "department: Product Support; type: Problem; priority: high; language: es;\n",
            "department: Returns and Exchanges; type: Incident; priority: low; language: pt;\n",
            "department: Product Support; type: Problem; priority: medium; language: de;\n",
            "department: Service Outages and Maintenance; type: Inquiry; priority: medium; language: hi;\n",
            "department: Product Support; type: Request; priority: low; language: hi\n",
            "department: Sales and Pre-Sales; type: Request; priority: medium; language: hi;\n",
            "department: Product Support; type: Problem; priority: medium; language: pt;\n",
            "department: Network and Infrastructure; type: Incident; priority: high; language: pt;\n",
            "department: Billing and Payments; type: Request; priority: low; language: hi;\n",
            "department: Technical Support; type: Incident; priority: high; language: de;\n",
            "department: Network and Connectivity; type: Problem; priority: high; language: hi;\n",
            "department: Technical Support; type: Request; priority: high; language: pt;\n",
            "department: Product Support; type: Problem; priority: medium; language: de;\n",
            "department: Product Support; type: Incident; priority: high; language: es;\n",
            "department: Product Support; type: Incident; priority: high; language: fr;\n",
            "department: Product Support; type: Problem; priority: medium; language: pt;\n",
            "department: Service Outages and Maintenance; type: Request; priority: high; language: pt;\n",
            "department: Technical Support; type: Problem; priority: high; language: hi;\n",
            "department: Technical Support; type: Incident; priority: high; language: pt;\n",
            "department: Product Support; type: Incident; priority: medium; language: hi;\n",
            "department: Returns and Exchanges; type: Incident; priority: low; language: hi;\n",
            "department: Cloud Services; type: Request; priority: medium; language: hi;\n",
            "department: Product Support; type: Problem; priority: medium; language: pt;\n",
            "department: Billing and Payments; type: Incident; priority: low; language: fr\n",
            "department: Technical Support; type: Incident; priority: high; language: pt;\n",
            "department: Network Operations; type: Incident; priority: high; language: fr;\n",
            "department: Service Outages and Maintenance; type: Incident; priority: high; language: de;\n",
            "department: Returns and Exchanges; type: Incident; priority: low; language: pt\n",
            "department: Shipping and Delivery; type: Incident; priority: medium; language: es;\n",
            "department: Returns and Exchanges; type: Incident; priority: low; language: de;\n",
            "department: Billing and Payments; type: Request; priority: medium; language: fr;\n",
            "department: Technical Support; type: Incident; priority: high; language: hi;\n",
            "department: Cloud Services; type: Problem; priority: medium; language: fr;\n",
            "department: Product Support; type: Problem; priority: medium; language: de;\n",
            "department: Billing and Payments; type: Incident; priority: low; language: de;\n",
            "department: Product Support; type: Problem; priority: medium; language: de;\n",
            "department: Product Support; type: Request; priority: medium; language: de;\n",
            "department: Billing and Payments; type: Incident; priority: low; language: pt\n",
            "department: Billing and Payments; type: Request; priority: low; language: de;\n",
            "department: Product Support; type: Incident; priority: high; language: hi;\n",
            "department: Technical Support; type: Incident; priority: high; language: hi;\n",
            "department: Billing and Payments; type: Incident; priority: low; language: es;\n",
            "department: Product Support; type: Problem; priority: medium; language: fr\n"
          ]
        }
      ]
    },
    {
      "cell_type": "code",
      "source": [
        "import re\n",
        "\n",
        "def extract_info(input_string):\n",
        "    pattern = r'department:\\s*(.*?);\\s*type:\\s*(.*?);\\s*priority:\\s*(.*?);\\s*language:\\s*(.*?);'\n",
        "    match = re.search(pattern, input_string)\n",
        "\n",
        "    #return match.group(1), match.group(2), match.group(3)\n",
        "    if match:\n",
        "        department = match.group(1)\n",
        "        inquiry_type = match.group(2)\n",
        "        priority = match.group(3)\n",
        "        language = match.group(4)\n",
        "        return {\n",
        "            'department': department,\n",
        "            'type': inquiry_type,\n",
        "            'priority': priority,\n",
        "            'language': language\n",
        "        }\n",
        "    else:\n",
        "        return {'department': None, 'type': None, 'priority': None, 'language': None}\n",
        "\n",
        "\n",
        "deparment_list = []; type_list = []; priority_list = []; lang_list = []\n",
        "for result in results:\n",
        "  info = extract_info(result)\n",
        "  #print(info)\n",
        "  deparment_list.append(info['department'])\n",
        "  type_list.append(info['type'])\n",
        "  priority_list.append(info['priority'])\n",
        "  lang_list.append(info['language'])\n",
        "\n",
        "print(len(deparment_list))"
      ],
      "metadata": {
        "colab": {
          "base_uri": "https://localhost:8080/"
        },
        "id": "UJfEtNL_yhay",
        "outputId": "0bfc4a79-648c-4262-c9ec-d45fd5712db5"
      },
      "execution_count": 226,
      "outputs": [
        {
          "output_type": "stream",
          "name": "stdout",
          "text": [
            "215\n"
          ]
        }
      ]
    },
    {
      "cell_type": "code",
      "source": [
        "# Create a DataFrame for results using the first 5 rows of test_df\n",
        "results_df = pd.DataFrame({'ticket_ID': test_df[test_df.columns[0]].head(len(deparment_list)), 'department': deparment_list,\n",
        "                           'type': type_list, 'priority': priority_list ,'language': lang_list})\n",
        "\n",
        "# Save the results\n",
        "results_df.to_csv(\"predictions.csv\", index=False)\n",
        "\n",
        "print(\"Predictions saved to predictions.csv\")"
      ],
      "metadata": {
        "colab": {
          "base_uri": "https://localhost:8080/"
        },
        "id": "bU764jTZyowy",
        "outputId": "5c4d7d13-3336-41ac-9ff5-aab28459f27b"
      },
      "execution_count": 227,
      "outputs": [
        {
          "output_type": "stream",
          "name": "stdout",
          "text": [
            "Predictions saved to predictions.csv\n"
          ]
        }
      ]
    }
  ]
}